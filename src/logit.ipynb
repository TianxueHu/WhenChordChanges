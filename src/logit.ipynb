{
 "cells": [
  {
   "cell_type": "code",
   "execution_count": 69,
   "metadata": {},
   "outputs": [],
   "source": [
    "import pandas as pd\n",
    "from collections import Counter\n",
    "import matplotlib.pyplot as plt\n",
    "import seaborn as sns\n",
    "import statsmodels.api as sm\n",
    "import statsmodels.formula.api as smf\n",
    "import numpy as np"
   ]
  },
  {
   "cell_type": "code",
   "execution_count": 70,
   "metadata": {},
   "outputs": [],
   "source": [
    "df = pd.read_csv(\"haydn_group6_df.csv\", sep = '\\t') \n",
    "sears = pd.read_csv(\"sears_df.csv\", sep = '\\t') \n"
   ]
  },
  {
   "cell_type": "code",
   "execution_count": 71,
   "metadata": {},
   "outputs": [
    {
     "data": {
      "text/html": [
       "<div>\n",
       "<style scoped>\n",
       "    .dataframe tbody tr th:only-of-type {\n",
       "        vertical-align: middle;\n",
       "    }\n",
       "\n",
       "    .dataframe tbody tr th {\n",
       "        vertical-align: top;\n",
       "    }\n",
       "\n",
       "    .dataframe thead th {\n",
       "        text-align: right;\n",
       "    }\n",
       "</style>\n",
       "<table border=\"1\" class=\"dataframe\">\n",
       "  <thead>\n",
       "    <tr style=\"text-align: right;\">\n",
       "      <th></th>\n",
       "      <th>harm</th>\n",
       "      <th>voice4</th>\n",
       "      <th>voice3</th>\n",
       "      <th>voice2</th>\n",
       "      <th>voice1</th>\n",
       "      <th>beat</th>\n",
       "      <th>meter</th>\n",
       "      <th>onset_strength</th>\n",
       "      <th>beat_strength</th>\n",
       "      <th>LABEL</th>\n",
       "      <th>similarity</th>\n",
       "    </tr>\n",
       "  </thead>\n",
       "  <tbody>\n",
       "    <tr>\n",
       "      <th>0</th>\n",
       "      <td>.</td>\n",
       "      <td>4r</td>\n",
       "      <td>4r</td>\n",
       "      <td>4r</td>\n",
       "      <td>8.e-</td>\n",
       "      <td>3.00</td>\n",
       "      <td>M3/4</td>\n",
       "      <td>1.0</td>\n",
       "      <td>strong beat</td>\n",
       "      <td>1.0</td>\n",
       "      <td>0.000000</td>\n",
       "    </tr>\n",
       "    <tr>\n",
       "      <th>1</th>\n",
       "      <td>.</td>\n",
       "      <td>4r</td>\n",
       "      <td>4r</td>\n",
       "      <td>4r</td>\n",
       "      <td>16g</td>\n",
       "      <td>3.75</td>\n",
       "      <td>M3/4</td>\n",
       "      <td>1.0</td>\n",
       "      <td>off beat</td>\n",
       "      <td>0.0</td>\n",
       "      <td>0.500000</td>\n",
       "    </tr>\n",
       "    <tr>\n",
       "      <th>2</th>\n",
       "      <td>I</td>\n",
       "      <td>4E-</td>\n",
       "      <td>4e-</td>\n",
       "      <td>4e- 4G</td>\n",
       "      <td>4b-</td>\n",
       "      <td>1.00</td>\n",
       "      <td>M3/4</td>\n",
       "      <td>4.0</td>\n",
       "      <td>strong beat</td>\n",
       "      <td>1.0</td>\n",
       "      <td>0.500000</td>\n",
       "    </tr>\n",
       "    <tr>\n",
       "      <th>3</th>\n",
       "      <td>I</td>\n",
       "      <td>4r</td>\n",
       "      <td>4r</td>\n",
       "      <td>4r</td>\n",
       "      <td>4b-</td>\n",
       "      <td>2.00</td>\n",
       "      <td>M3/4</td>\n",
       "      <td>0.0</td>\n",
       "      <td>weak beat</td>\n",
       "      <td>0.0</td>\n",
       "      <td>0.500000</td>\n",
       "    </tr>\n",
       "    <tr>\n",
       "      <th>4</th>\n",
       "      <td>I</td>\n",
       "      <td>4e-</td>\n",
       "      <td>[4b-</td>\n",
       "      <td>4g</td>\n",
       "      <td>4ee-</td>\n",
       "      <td>3.00</td>\n",
       "      <td>M3/4</td>\n",
       "      <td>3.0</td>\n",
       "      <td>strong beat</td>\n",
       "      <td>0.0</td>\n",
       "      <td>0.285714</td>\n",
       "    </tr>\n",
       "    <tr>\n",
       "      <th>...</th>\n",
       "      <td>...</td>\n",
       "      <td>...</td>\n",
       "      <td>...</td>\n",
       "      <td>...</td>\n",
       "      <td>...</td>\n",
       "      <td>...</td>\n",
       "      <td>...</td>\n",
       "      <td>...</td>\n",
       "      <td>...</td>\n",
       "      <td>...</td>\n",
       "      <td>...</td>\n",
       "    </tr>\n",
       "    <tr>\n",
       "      <th>4861</th>\n",
       "      <td>ii6</td>\n",
       "      <td>4E-'\\</td>\n",
       "      <td>4e-'/</td>\n",
       "      <td>4g'/</td>\n",
       "      <td>16ee-\\JJ</td>\n",
       "      <td>1.75</td>\n",
       "      <td>M4/4</td>\n",
       "      <td>1.0</td>\n",
       "      <td>off beat</td>\n",
       "      <td>0.0</td>\n",
       "      <td>0.333333</td>\n",
       "    </tr>\n",
       "    <tr>\n",
       "      <th>4862</th>\n",
       "      <td>V7</td>\n",
       "      <td>4F'\\</td>\n",
       "      <td>4An'/</td>\n",
       "      <td>4c'/ 4e-'/</td>\n",
       "      <td>8ee-\\L</td>\n",
       "      <td>2.00</td>\n",
       "      <td>M4/4</td>\n",
       "      <td>3.0</td>\n",
       "      <td>weak beat</td>\n",
       "      <td>1.0</td>\n",
       "      <td>1.000000</td>\n",
       "    </tr>\n",
       "    <tr>\n",
       "      <th>4863</th>\n",
       "      <td>V7</td>\n",
       "      <td>4F'\\</td>\n",
       "      <td>4An'/</td>\n",
       "      <td>4c'/ 4e-'/</td>\n",
       "      <td>16f\\L</td>\n",
       "      <td>2.50</td>\n",
       "      <td>M4/4</td>\n",
       "      <td>1.0</td>\n",
       "      <td>off beat</td>\n",
       "      <td>0.0</td>\n",
       "      <td>0.888889</td>\n",
       "    </tr>\n",
       "    <tr>\n",
       "      <th>4864</th>\n",
       "      <td>V7</td>\n",
       "      <td>4F'\\</td>\n",
       "      <td>4An'/</td>\n",
       "      <td>4c'/ 4e-'/</td>\n",
       "      <td>16b-\\JJ</td>\n",
       "      <td>2.75</td>\n",
       "      <td>M4/4</td>\n",
       "      <td>1.0</td>\n",
       "      <td>off beat</td>\n",
       "      <td>0.0</td>\n",
       "      <td>0.285714</td>\n",
       "    </tr>\n",
       "    <tr>\n",
       "      <th>4865</th>\n",
       "      <td>I</td>\n",
       "      <td>4BB-/</td>\n",
       "      <td>4B-/</td>\n",
       "      <td>4B-'/ 4d'/</td>\n",
       "      <td>4b-\\</td>\n",
       "      <td>3.00</td>\n",
       "      <td>M4/4</td>\n",
       "      <td>3.0</td>\n",
       "      <td>strong beat</td>\n",
       "      <td>1.0</td>\n",
       "      <td>0.000000</td>\n",
       "    </tr>\n",
       "  </tbody>\n",
       "</table>\n",
       "<p>28274 rows × 11 columns</p>\n",
       "</div>"
      ],
      "text/plain": [
       "     harm voice4 voice3      voice2    voice1  beat meter  onset_strength  \\\n",
       "0       .     4r     4r          4r      8.e-  3.00  M3/4             1.0   \n",
       "1       .     4r     4r          4r       16g  3.75  M3/4             1.0   \n",
       "2       I    4E-    4e-      4e- 4G       4b-  1.00  M3/4             4.0   \n",
       "3       I     4r     4r          4r       4b-  2.00  M3/4             0.0   \n",
       "4       I    4e-   [4b-          4g      4ee-  3.00  M3/4             3.0   \n",
       "...   ...    ...    ...         ...       ...   ...   ...             ...   \n",
       "4861  ii6  4E-'\\  4e-'/        4g'/  16ee-\\JJ  1.75  M4/4             1.0   \n",
       "4862   V7   4F'\\  4An'/  4c'/ 4e-'/    8ee-\\L  2.00  M4/4             3.0   \n",
       "4863   V7   4F'\\  4An'/  4c'/ 4e-'/     16f\\L  2.50  M4/4             1.0   \n",
       "4864   V7   4F'\\  4An'/  4c'/ 4e-'/   16b-\\JJ  2.75  M4/4             1.0   \n",
       "4865    I  4BB-/   4B-/  4B-'/ 4d'/      4b-\\  3.00  M4/4             3.0   \n",
       "\n",
       "     beat_strength  LABEL  similarity  \n",
       "0      strong beat    1.0    0.000000  \n",
       "1         off beat    0.0    0.500000  \n",
       "2      strong beat    1.0    0.500000  \n",
       "3        weak beat    0.0    0.500000  \n",
       "4      strong beat    0.0    0.285714  \n",
       "...            ...    ...         ...  \n",
       "4861      off beat    0.0    0.333333  \n",
       "4862     weak beat    1.0    1.000000  \n",
       "4863      off beat    0.0    0.888889  \n",
       "4864      off beat    0.0    0.285714  \n",
       "4865   strong beat    1.0    0.000000  \n",
       "\n",
       "[28274 rows x 11 columns]"
      ]
     },
     "execution_count": 71,
     "metadata": {},
     "output_type": "execute_result"
    }
   ],
   "source": [
    "df = df.append(sears)\n",
    "df"
   ]
  },
  {
   "cell_type": "code",
   "execution_count": 72,
   "metadata": {},
   "outputs": [
    {
     "name": "stderr",
     "output_type": "stream",
     "text": [
      "/opt/anaconda3/lib/python3.7/site-packages/pandas/core/frame.py:4133: SettingWithCopyWarning: \n",
      "A value is trying to be set on a copy of a slice from a DataFrame\n",
      "\n",
      "See the caveats in the documentation: https://pandas.pydata.org/pandas-docs/stable/user_guide/indexing.html#returning-a-view-versus-a-copy\n",
      "  errors=errors,\n"
     ]
    },
    {
     "data": {
      "text/html": [
       "<div>\n",
       "<style scoped>\n",
       "    .dataframe tbody tr th:only-of-type {\n",
       "        vertical-align: middle;\n",
       "    }\n",
       "\n",
       "    .dataframe tbody tr th {\n",
       "        vertical-align: top;\n",
       "    }\n",
       "\n",
       "    .dataframe thead th {\n",
       "        text-align: right;\n",
       "    }\n",
       "</style>\n",
       "<table border=\"1\" class=\"dataframe\">\n",
       "  <thead>\n",
       "    <tr style=\"text-align: right;\">\n",
       "      <th></th>\n",
       "      <th>onset_synchrony</th>\n",
       "      <th>beat_strength</th>\n",
       "      <th>similarity</th>\n",
       "      <th>LABEL</th>\n",
       "    </tr>\n",
       "  </thead>\n",
       "  <tbody>\n",
       "    <tr>\n",
       "      <th>0</th>\n",
       "      <td>1.0</td>\n",
       "      <td>strong beat</td>\n",
       "      <td>0.000000</td>\n",
       "      <td>1.0</td>\n",
       "    </tr>\n",
       "    <tr>\n",
       "      <th>1</th>\n",
       "      <td>1.0</td>\n",
       "      <td>off beat</td>\n",
       "      <td>0.500000</td>\n",
       "      <td>0.0</td>\n",
       "    </tr>\n",
       "    <tr>\n",
       "      <th>2</th>\n",
       "      <td>4.0</td>\n",
       "      <td>strong beat</td>\n",
       "      <td>0.500000</td>\n",
       "      <td>1.0</td>\n",
       "    </tr>\n",
       "    <tr>\n",
       "      <th>3</th>\n",
       "      <td>0.0</td>\n",
       "      <td>weak beat</td>\n",
       "      <td>0.500000</td>\n",
       "      <td>0.0</td>\n",
       "    </tr>\n",
       "    <tr>\n",
       "      <th>4</th>\n",
       "      <td>3.0</td>\n",
       "      <td>strong beat</td>\n",
       "      <td>0.285714</td>\n",
       "      <td>0.0</td>\n",
       "    </tr>\n",
       "    <tr>\n",
       "      <th>...</th>\n",
       "      <td>...</td>\n",
       "      <td>...</td>\n",
       "      <td>...</td>\n",
       "      <td>...</td>\n",
       "    </tr>\n",
       "    <tr>\n",
       "      <th>4861</th>\n",
       "      <td>1.0</td>\n",
       "      <td>off beat</td>\n",
       "      <td>0.333333</td>\n",
       "      <td>0.0</td>\n",
       "    </tr>\n",
       "    <tr>\n",
       "      <th>4862</th>\n",
       "      <td>3.0</td>\n",
       "      <td>weak beat</td>\n",
       "      <td>1.000000</td>\n",
       "      <td>1.0</td>\n",
       "    </tr>\n",
       "    <tr>\n",
       "      <th>4863</th>\n",
       "      <td>1.0</td>\n",
       "      <td>off beat</td>\n",
       "      <td>0.888889</td>\n",
       "      <td>0.0</td>\n",
       "    </tr>\n",
       "    <tr>\n",
       "      <th>4864</th>\n",
       "      <td>1.0</td>\n",
       "      <td>off beat</td>\n",
       "      <td>0.285714</td>\n",
       "      <td>0.0</td>\n",
       "    </tr>\n",
       "    <tr>\n",
       "      <th>4865</th>\n",
       "      <td>3.0</td>\n",
       "      <td>strong beat</td>\n",
       "      <td>0.000000</td>\n",
       "      <td>1.0</td>\n",
       "    </tr>\n",
       "  </tbody>\n",
       "</table>\n",
       "<p>28274 rows × 4 columns</p>\n",
       "</div>"
      ],
      "text/plain": [
       "      onset_synchrony beat_strength  similarity  LABEL\n",
       "0                 1.0   strong beat    0.000000    1.0\n",
       "1                 1.0      off beat    0.500000    0.0\n",
       "2                 4.0   strong beat    0.500000    1.0\n",
       "3                 0.0     weak beat    0.500000    0.0\n",
       "4                 3.0   strong beat    0.285714    0.0\n",
       "...               ...           ...         ...    ...\n",
       "4861              1.0      off beat    0.333333    0.0\n",
       "4862              3.0     weak beat    1.000000    1.0\n",
       "4863              1.0      off beat    0.888889    0.0\n",
       "4864              1.0      off beat    0.285714    0.0\n",
       "4865              3.0   strong beat    0.000000    1.0\n",
       "\n",
       "[28274 rows x 4 columns]"
      ]
     },
     "execution_count": 72,
     "metadata": {},
     "output_type": "execute_result"
    }
   ],
   "source": [
    "df = df[[\"onset_strength\", \"beat_strength\",\"similarity\",\"LABEL\"]]\n",
    "df.rename(columns={'onset_strength':'onset_synchrony'}, inplace=True)\n",
    "df"
   ]
  },
  {
   "cell_type": "code",
   "execution_count": 73,
   "metadata": {},
   "outputs": [
    {
     "name": "stdout",
     "output_type": "stream",
     "text": [
      "onset_synchrony    float64\n",
      "beat_strength       object\n",
      "similarity         float64\n",
      "LABEL              float64\n",
      "dtype: object\n"
     ]
    }
   ],
   "source": [
    "print(df.dtypes)"
   ]
  },
  {
   "cell_type": "markdown",
   "metadata": {},
   "source": [
    "### Types of varibles\n",
    "Independent variable: <br>\n",
    "LABEL - binary<br>\n",
    "\n",
    "Dependent variables: <br>\n",
    "onset_synchrony - ordinal<br>\n",
    "beat_strength - categorical<br>\n",
    "similarity - continuous<br>\n"
   ]
  },
  {
   "cell_type": "code",
   "execution_count": 74,
   "metadata": {},
   "outputs": [
    {
     "name": "stdout",
     "output_type": "stream",
     "text": [
      "onset_synchrony       int64\n",
      "beat_strength      category\n",
      "similarity          float64\n",
      "LABEL                 int64\n",
      "dtype: object\n"
     ]
    },
    {
     "name": "stderr",
     "output_type": "stream",
     "text": [
      "/opt/anaconda3/lib/python3.7/site-packages/ipykernel_launcher.py:2: SettingWithCopyWarning: \n",
      "A value is trying to be set on a copy of a slice from a DataFrame.\n",
      "Try using .loc[row_indexer,col_indexer] = value instead\n",
      "\n",
      "See the caveats in the documentation: https://pandas.pydata.org/pandas-docs/stable/user_guide/indexing.html#returning-a-view-versus-a-copy\n",
      "  \n",
      "/opt/anaconda3/lib/python3.7/site-packages/ipykernel_launcher.py:4: SettingWithCopyWarning: \n",
      "A value is trying to be set on a copy of a slice from a DataFrame.\n",
      "Try using .loc[row_indexer,col_indexer] = value instead\n",
      "\n",
      "See the caveats in the documentation: https://pandas.pydata.org/pandas-docs/stable/user_guide/indexing.html#returning-a-view-versus-a-copy\n",
      "  after removing the cwd from sys.path.\n",
      "/opt/anaconda3/lib/python3.7/site-packages/ipykernel_launcher.py:5: SettingWithCopyWarning: \n",
      "A value is trying to be set on a copy of a slice from a DataFrame.\n",
      "Try using .loc[row_indexer,col_indexer] = value instead\n",
      "\n",
      "See the caveats in the documentation: https://pandas.pydata.org/pandas-docs/stable/user_guide/indexing.html#returning-a-view-versus-a-copy\n",
      "  \"\"\"\n"
     ]
    }
   ],
   "source": [
    "# change variable types\n",
    "df['onset_synchrony'] = df.onset_synchrony.astype(int)\n",
    "#df['onset_strength'] = pd.Categorical(df.onset_strength)\n",
    "df['beat_strength'] = pd.Categorical(df.beat_strength)\n",
    "df['LABEL'] = df.LABEL.astype(int)\n",
    "# change onset strength \n",
    "\n",
    "print(df.dtypes)"
   ]
  },
  {
   "cell_type": "markdown",
   "metadata": {},
   "source": [
    "## Dataframe descriptive stats"
   ]
  },
  {
   "cell_type": "code",
   "execution_count": 76,
   "metadata": {},
   "outputs": [
    {
     "data": {
      "text/html": [
       "<div>\n",
       "<style scoped>\n",
       "    .dataframe tbody tr th:only-of-type {\n",
       "        vertical-align: middle;\n",
       "    }\n",
       "\n",
       "    .dataframe tbody tr th {\n",
       "        vertical-align: top;\n",
       "    }\n",
       "\n",
       "    .dataframe thead th {\n",
       "        text-align: right;\n",
       "    }\n",
       "</style>\n",
       "<table border=\"1\" class=\"dataframe\">\n",
       "  <thead>\n",
       "    <tr style=\"text-align: right;\">\n",
       "      <th></th>\n",
       "      <th>onset_synchrony</th>\n",
       "      <th>similarity</th>\n",
       "      <th>LABEL</th>\n",
       "    </tr>\n",
       "  </thead>\n",
       "  <tbody>\n",
       "    <tr>\n",
       "      <th>count</th>\n",
       "      <td>28274.000000</td>\n",
       "      <td>28274.000000</td>\n",
       "      <td>28274.000000</td>\n",
       "    </tr>\n",
       "    <tr>\n",
       "      <th>mean</th>\n",
       "      <td>1.492113</td>\n",
       "      <td>0.552387</td>\n",
       "      <td>0.228478</td>\n",
       "    </tr>\n",
       "    <tr>\n",
       "      <th>std</th>\n",
       "      <td>1.040079</td>\n",
       "      <td>0.361441</td>\n",
       "      <td>0.419860</td>\n",
       "    </tr>\n",
       "    <tr>\n",
       "      <th>min</th>\n",
       "      <td>0.000000</td>\n",
       "      <td>0.000000</td>\n",
       "      <td>0.000000</td>\n",
       "    </tr>\n",
       "    <tr>\n",
       "      <th>25%</th>\n",
       "      <td>1.000000</td>\n",
       "      <td>0.285714</td>\n",
       "      <td>0.000000</td>\n",
       "    </tr>\n",
       "    <tr>\n",
       "      <th>50%</th>\n",
       "      <td>1.000000</td>\n",
       "      <td>0.666667</td>\n",
       "      <td>0.000000</td>\n",
       "    </tr>\n",
       "    <tr>\n",
       "      <th>75%</th>\n",
       "      <td>2.000000</td>\n",
       "      <td>0.857143</td>\n",
       "      <td>0.000000</td>\n",
       "    </tr>\n",
       "    <tr>\n",
       "      <th>max</th>\n",
       "      <td>7.000000</td>\n",
       "      <td>1.000000</td>\n",
       "      <td>1.000000</td>\n",
       "    </tr>\n",
       "  </tbody>\n",
       "</table>\n",
       "</div>"
      ],
      "text/plain": [
       "       onset_synchrony    similarity         LABEL\n",
       "count     28274.000000  28274.000000  28274.000000\n",
       "mean          1.492113      0.552387      0.228478\n",
       "std           1.040079      0.361441      0.419860\n",
       "min           0.000000      0.000000      0.000000\n",
       "25%           1.000000      0.285714      0.000000\n",
       "50%           1.000000      0.666667      0.000000\n",
       "75%           2.000000      0.857143      0.000000\n",
       "max           7.000000      1.000000      1.000000"
      ]
     },
     "execution_count": 76,
     "metadata": {},
     "output_type": "execute_result"
    }
   ],
   "source": [
    "df.describe()"
   ]
  },
  {
   "cell_type": "markdown",
   "metadata": {},
   "source": [
    "### Correlation Check"
   ]
  },
  {
   "cell_type": "markdown",
   "metadata": {},
   "source": [
    "#### Visualization - scatter plot matrix to explore the relationship between different variables"
   ]
  },
  {
   "cell_type": "code",
   "execution_count": 87,
   "metadata": {},
   "outputs": [
    {
     "data": {
      "text/plain": [
       "<seaborn.axisgrid.PairGrid at 0x11c801e90>"
      ]
     },
     "execution_count": 87,
     "metadata": {},
     "output_type": "execute_result"
    },
    {
     "data": {
      "image/png": "[encoded data removed]",
      "text/plain": [
       "<Figure size 720x720 with 20 Axes>"
      ]
     },
     "metadata": {
      "needs_background": "light"
     },
     "output_type": "display_data"
    }
   ],
   "source": [
    "sns.pairplot(df, vars = ['beat_strength', 'onset_synchrony', 'similarity', \"LABEL\"])"
   ]
  },
  {
   "cell_type": "markdown",
   "metadata": {},
   "source": [
    "#### Correlation for Multicollinearity Check\n",
    "Before we proceed to logistic regression we need to check one assumption that the independent variables (non-categorical) should be free from any correlation. The rule of thumb is that the inter-predictor correlation should be less than 0.4. From thetable below, the non-categorical varibales are not correlated."
   ]
  },
  {
   "cell_type": "code",
   "execution_count": 88,
   "metadata": {},
   "outputs": [
    {
     "data": {
      "image/png": "[encoded data removed]",
      "text/plain": [
       "<Figure size 720x576 with 2 Axes>"
      ]
     },
     "metadata": {
      "needs_background": "light"
     },
     "output_type": "display_data"
    }
   ],
   "source": [
    "corr = df.corr()\n",
    "fig, ax = plt.subplots(figsize=(10, 8))\n",
    "colormap = sns.diverging_palette(220, 10, as_cmap = True)\n",
    "dropvals = np.zeros_like(corr)\n",
    "dropvals[np.triu_indices_from(dropvals)] = True\n",
    "sns.heatmap(corr, cmap = colormap, linewidths = .5, annot = True, fmt = \".2f\", mask = dropvals)\n",
    "plt.show()"
   ]
  },
  {
   "cell_type": "markdown",
   "metadata": {},
   "source": [
    "## Model Fitting"
   ]
  },
  {
   "cell_type": "code",
   "execution_count": 64,
   "metadata": {},
   "outputs": [
    {
     "name": "stdout",
     "output_type": "stream",
     "text": [
      "Optimization terminated successfully.\n",
      "         Current function value: 0.280866\n",
      "         Iterations 7\n"
     ]
    }
   ],
   "source": [
    "logit = smf.logit(formula='LABEL ~ onset_synchrony + C(beat_strength) + similarity ', data=df).fit()"
   ]
  },
  {
   "cell_type": "code",
   "execution_count": 65,
   "metadata": {},
   "outputs": [
    {
     "name": "stdout",
     "output_type": "stream",
     "text": [
      "                           Logit Regression Results                           \n",
      "==============================================================================\n",
      "Dep. Variable:                  LABEL   No. Observations:                28274\n",
      "Model:                          Logit   Df Residuals:                    28269\n",
      "Method:                           MLE   Df Model:                            4\n",
      "Date:                Tue, 01 Dec 2020   Pseudo R-squ.:                  0.4774\n",
      "Time:                        01:26:06   Log-Likelihood:                -7941.2\n",
      "converged:                       True   LL-Null:                       -15195.\n",
      "Covariance Type:            nonrobust   LLR p-value:                     0.000\n",
      "===================================================================================================\n",
      "                                      coef    std err          z      P>|z|      [0.025      0.975]\n",
      "---------------------------------------------------------------------------------------------------\n",
      "Intercept                          -5.1455      0.066    -77.888      0.000      -5.275      -5.016\n",
      "C(beat_strength)[T.strong beat]     3.4579      0.051     67.164      0.000       3.357       3.559\n",
      "C(beat_strength)[T.weak beat]       1.8221      0.055     33.139      0.000       1.714       1.930\n",
      "onset_synchrony                     1.1908      0.021     55.808      0.000       1.149       1.233\n",
      "similarity                          0.1942      0.058      3.358      0.001       0.081       0.308\n",
      "===================================================================================================\n"
     ]
    }
   ],
   "source": [
    "print(logit.summary())"
   ]
  },
  {
   "cell_type": "code",
   "execution_count": 26,
   "metadata": {},
   "outputs": [
    {
     "data": {
      "text/plain": [
       "Intercept                           0.000000e+00\n",
       "C(beat_strength)[T.strong beat]     0.000000e+00\n",
       "C(beat_strength)[T.weak beat]      8.096280e-241\n",
       "onset_synchrony                     0.000000e+00\n",
       "similarity                          7.862773e-04\n",
       "dtype: float64"
      ]
     },
     "execution_count": 26,
     "metadata": {},
     "output_type": "execute_result"
    }
   ],
   "source": [
    "# p values\n",
    "logit.pvalues"
   ]
  },
  {
   "cell_type": "markdown",
   "metadata": {},
   "source": [
    "Some metrics have different names:<br>\n",
    "\n",
    "Pseudo R-squ. is a substitute for R-squared. It also measures the amount of outcome variable variance, which is explained by the model. Pseudo R-squared can be interpreted in the same way as R-squared; the higher the better, with a maximum of 1.<br>\n",
    "\n",
    "LL-null and LLR p-value are equivalent to the F-statistic and F-proba of linear regression, and are interpreted in the same manner for comparing models.\n",
    "The higher the value for LL-null the better. Low values for LLR p-value (<0.05) mean you can reject the null hypothesis that the model based on the intercept (all coefficients = 0) is better than the full model. Hence, our model is relevant.<br>\n",
    "\n",
    "The z-statistic plays the same role as the t-statistic in the linear regression output and equals the coefficient divided by its standard error. The lower, the better.<br>\n",
    "\n",
    "\n",
    "#### Interpreting the results\n",
    "The model is fitted using the Maximum Likelihood Estimation (MLE) method. The pseudo-R-squared value is 0.4774 which is overall good. The Log-Likelihood difference between the null model (intercept model) and the fitted model shows significant improvement (Log-Likelihood ratio test).<br>\n",
    "\n",
    "\n",
    "The coefficient table showed that on strong beat, on weak beat, onset_synchrony, and similarity all have significant influence (p-values < 0.05; 5% significance level) on admission. The coefficients are positive and in log-odds terms. The interpretation of the model coefficients could be as follows:<br>\n",
    "\n",
    "Each one-unit increase in onset_synchrony will increase the log odds of detemining a chord \"changes\" on the slice by 1.1908.<br>\n",
    "\n",
    "Each one-unit increase in similarity will increase the log odds of detemining a chord \"changes\" on the slice by 0.1942. <br>\n",
    "\n",
    "In addition, for beat_strength variable we could say compared to an onset slice that off beat, an onset slice that on strong beat has 3.4579 log odds of detemine a chord \"changes\" on the slice holding other variables constant, \n",
    "and an onset slice that on weak beat has 1.8221 log odds of detemine a chord \"changes\" on the slice holding other variables constant.<br>\n"
   ]
  },
  {
   "cell_type": "markdown",
   "metadata": {},
   "source": [
    "### Visualize how the probability of a chord changes on an onset slice changes with different features values (non-categorical)"
   ]
  },
  {
   "cell_type": "markdown",
   "metadata": {},
   "source": [
    "#### Probability that a chord changes on an onset slice vs. onset synchrony value"
   ]
  },
  {
   "cell_type": "code",
   "execution_count": 80,
   "metadata": {},
   "outputs": [
    {
     "name": "stderr",
     "output_type": "stream",
     "text": [
      "/opt/anaconda3/lib/python3.7/site-packages/scipy/stats/stats.py:1713: FutureWarning: Using a non-tuple sequence for multidimensional indexing is deprecated; use `arr[tuple(seq)]` instead of `arr[seq]`. In the future this will be interpreted as an array index, `arr[np.array(seq)]`, which will result either in an error or a different result.\n",
      "  return np.add.reduce(sorted[indexer] * weights, axis=axis) / sumval\n"
     ]
    },
    {
     "data": {
      "text/plain": [
       "Text(0, 0.5, 'Probability that a chord changes on an onset slice')"
      ]
     },
     "execution_count": 80,
     "metadata": {},
     "output_type": "execute_result"
    },
    {
     "data": {
      "image/png": "[encoded data removed]",
      "text/plain": [
       "<Figure size 432x288 with 1 Axes>"
      ]
     },
     "metadata": {
      "needs_background": "light"
     },
     "output_type": "display_data"
    }
   ],
   "source": [
    "sns.regplot(x = \"onset_synchrony\", y = \"LABEL\", data = df,\n",
    "logistic = True, y_jitter = .03)\n",
    "plt.ylabel(\"Probability that a chord changes on an onset slice\")"
   ]
  },
  {
   "cell_type": "markdown",
   "metadata": {},
   "source": [
    "### Probability that a chord changes on an onset slice vs. similarity value"
   ]
  },
  {
   "cell_type": "code",
   "execution_count": 81,
   "metadata": {},
   "outputs": [
    {
     "name": "stderr",
     "output_type": "stream",
     "text": [
      "/opt/anaconda3/lib/python3.7/site-packages/scipy/stats/stats.py:1713: FutureWarning: Using a non-tuple sequence for multidimensional indexing is deprecated; use `arr[tuple(seq)]` instead of `arr[seq]`. In the future this will be interpreted as an array index, `arr[np.array(seq)]`, which will result either in an error or a different result.\n",
      "  return np.add.reduce(sorted[indexer] * weights, axis=axis) / sumval\n"
     ]
    },
    {
     "data": {
      "text/plain": [
       "Text(0, 0.5, 'Probability of a chord changes on an onset slice')"
      ]
     },
     "execution_count": 81,
     "metadata": {},
     "output_type": "execute_result"
    },
    {
     "data": {
      "image/png": "[encoded data removed]",
      "text/plain": [
       "<Figure size 432x288 with 1 Axes>"
      ]
     },
     "metadata": {
      "needs_background": "light"
     },
     "output_type": "display_data"
    }
   ],
   "source": [
    "sns.regplot(x = \"similarity\", y = \"LABEL\", data = df,\n",
    "logistic = True, y_jitter = .03)\n",
    "plt.ylabel(\"Probability of a chord changes on an onset slice\")"
   ]
  },
  {
   "cell_type": "code",
   "execution_count": null,
   "metadata": {},
   "outputs": [],
   "source": []
  }
 ],
 "metadata": {
  "kernelspec": {
   "display_name": "Python 3",
   "language": "python",
   "name": "python3"
  },
  "language_info": {
   "codemirror_mode": {
    "name": "ipython",
    "version": 3
   },
   "file_extension": ".py",
   "mimetype": "text/x-python",
   "name": "python",
   "nbconvert_exporter": "python",
   "pygments_lexer": "ipython3",
   "version": "3.7.6"
  }
 },
 "nbformat": 4,
 "nbformat_minor": 4
}
