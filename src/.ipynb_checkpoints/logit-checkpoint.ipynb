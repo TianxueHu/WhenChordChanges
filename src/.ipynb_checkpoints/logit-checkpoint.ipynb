{
 "cells": [
  {
   "cell_type": "code",
   "execution_count": 33,
   "metadata": {},
   "outputs": [],
   "source": [
    "import pandas as pd\n",
    "from collections import Counter\n",
    "import matplotlib.pyplot as plt\n",
    "import seaborn as sns\n",
    "import statsmodels.api as sm\n",
    "import statsmodels.formula.api as smf\n",
    "import numpy as np"
   ]
  },
  {
   "cell_type": "code",
   "execution_count": 27,
   "metadata": {},
   "outputs": [],
   "source": [
    "df = pd.read_csv(\"haydn_group6_df.csv\", sep = '\\t') \n",
    "sears = pd.read_csv(\"sears_df.csv\", sep = '\\t') \n"
   ]
  },
  {
   "cell_type": "code",
   "execution_count": 28,
   "metadata": {},
   "outputs": [],
   "source": [
    "df = df.append(sears)"
   ]
  },
  {
   "cell_type": "code",
   "execution_count": 29,
   "metadata": {},
   "outputs": [
    {
     "data": {
      "text/html": [
       "<div>\n",
       "<style scoped>\n",
       "    .dataframe tbody tr th:only-of-type {\n",
       "        vertical-align: middle;\n",
       "    }\n",
       "\n",
       "    .dataframe tbody tr th {\n",
       "        vertical-align: top;\n",
       "    }\n",
       "\n",
       "    .dataframe thead th {\n",
       "        text-align: right;\n",
       "    }\n",
       "</style>\n",
       "<table border=\"1\" class=\"dataframe\">\n",
       "  <thead>\n",
       "    <tr style=\"text-align: right;\">\n",
       "      <th></th>\n",
       "      <th>harm</th>\n",
       "      <th>voice4</th>\n",
       "      <th>voice3</th>\n",
       "      <th>voice2</th>\n",
       "      <th>voice1</th>\n",
       "      <th>beat</th>\n",
       "      <th>meter</th>\n",
       "      <th>onset_strength</th>\n",
       "      <th>beat_strength</th>\n",
       "      <th>LABEL</th>\n",
       "      <th>similarity</th>\n",
       "    </tr>\n",
       "  </thead>\n",
       "  <tbody>\n",
       "    <tr>\n",
       "      <th>0</th>\n",
       "      <td>.</td>\n",
       "      <td>4r</td>\n",
       "      <td>4r</td>\n",
       "      <td>4r</td>\n",
       "      <td>8.e-</td>\n",
       "      <td>3.00</td>\n",
       "      <td>M3/4</td>\n",
       "      <td>1.0</td>\n",
       "      <td>strong beat</td>\n",
       "      <td>1.0</td>\n",
       "      <td>0.000000</td>\n",
       "    </tr>\n",
       "    <tr>\n",
       "      <th>1</th>\n",
       "      <td>.</td>\n",
       "      <td>4r</td>\n",
       "      <td>4r</td>\n",
       "      <td>4r</td>\n",
       "      <td>16g</td>\n",
       "      <td>3.75</td>\n",
       "      <td>M3/4</td>\n",
       "      <td>1.0</td>\n",
       "      <td>off beat</td>\n",
       "      <td>0.0</td>\n",
       "      <td>0.500000</td>\n",
       "    </tr>\n",
       "    <tr>\n",
       "      <th>2</th>\n",
       "      <td>I</td>\n",
       "      <td>4E-</td>\n",
       "      <td>4e-</td>\n",
       "      <td>4e- 4G</td>\n",
       "      <td>4b-</td>\n",
       "      <td>1.00</td>\n",
       "      <td>M3/4</td>\n",
       "      <td>4.0</td>\n",
       "      <td>strong beat</td>\n",
       "      <td>1.0</td>\n",
       "      <td>0.500000</td>\n",
       "    </tr>\n",
       "    <tr>\n",
       "      <th>3</th>\n",
       "      <td>I</td>\n",
       "      <td>4r</td>\n",
       "      <td>4r</td>\n",
       "      <td>4r</td>\n",
       "      <td>4b-</td>\n",
       "      <td>2.00</td>\n",
       "      <td>M3/4</td>\n",
       "      <td>0.0</td>\n",
       "      <td>weak beat</td>\n",
       "      <td>0.0</td>\n",
       "      <td>0.500000</td>\n",
       "    </tr>\n",
       "    <tr>\n",
       "      <th>4</th>\n",
       "      <td>I</td>\n",
       "      <td>4e-</td>\n",
       "      <td>[4b-</td>\n",
       "      <td>4g</td>\n",
       "      <td>4ee-</td>\n",
       "      <td>3.00</td>\n",
       "      <td>M3/4</td>\n",
       "      <td>3.0</td>\n",
       "      <td>strong beat</td>\n",
       "      <td>0.0</td>\n",
       "      <td>0.285714</td>\n",
       "    </tr>\n",
       "    <tr>\n",
       "      <th>...</th>\n",
       "      <td>...</td>\n",
       "      <td>...</td>\n",
       "      <td>...</td>\n",
       "      <td>...</td>\n",
       "      <td>...</td>\n",
       "      <td>...</td>\n",
       "      <td>...</td>\n",
       "      <td>...</td>\n",
       "      <td>...</td>\n",
       "      <td>...</td>\n",
       "      <td>...</td>\n",
       "    </tr>\n",
       "    <tr>\n",
       "      <th>4861</th>\n",
       "      <td>ii6</td>\n",
       "      <td>4E-'\\</td>\n",
       "      <td>4e-'/</td>\n",
       "      <td>4g'/</td>\n",
       "      <td>16ee-\\JJ</td>\n",
       "      <td>1.75</td>\n",
       "      <td>M4/4</td>\n",
       "      <td>1.0</td>\n",
       "      <td>off beat</td>\n",
       "      <td>0.0</td>\n",
       "      <td>0.333333</td>\n",
       "    </tr>\n",
       "    <tr>\n",
       "      <th>4862</th>\n",
       "      <td>V7</td>\n",
       "      <td>4F'\\</td>\n",
       "      <td>4An'/</td>\n",
       "      <td>4c'/ 4e-'/</td>\n",
       "      <td>8ee-\\L</td>\n",
       "      <td>2.00</td>\n",
       "      <td>M4/4</td>\n",
       "      <td>3.0</td>\n",
       "      <td>weak beat</td>\n",
       "      <td>1.0</td>\n",
       "      <td>1.000000</td>\n",
       "    </tr>\n",
       "    <tr>\n",
       "      <th>4863</th>\n",
       "      <td>V7</td>\n",
       "      <td>4F'\\</td>\n",
       "      <td>4An'/</td>\n",
       "      <td>4c'/ 4e-'/</td>\n",
       "      <td>16f\\L</td>\n",
       "      <td>2.50</td>\n",
       "      <td>M4/4</td>\n",
       "      <td>1.0</td>\n",
       "      <td>off beat</td>\n",
       "      <td>0.0</td>\n",
       "      <td>0.888889</td>\n",
       "    </tr>\n",
       "    <tr>\n",
       "      <th>4864</th>\n",
       "      <td>V7</td>\n",
       "      <td>4F'\\</td>\n",
       "      <td>4An'/</td>\n",
       "      <td>4c'/ 4e-'/</td>\n",
       "      <td>16b-\\JJ</td>\n",
       "      <td>2.75</td>\n",
       "      <td>M4/4</td>\n",
       "      <td>1.0</td>\n",
       "      <td>off beat</td>\n",
       "      <td>0.0</td>\n",
       "      <td>0.285714</td>\n",
       "    </tr>\n",
       "    <tr>\n",
       "      <th>4865</th>\n",
       "      <td>I</td>\n",
       "      <td>4BB-/</td>\n",
       "      <td>4B-/</td>\n",
       "      <td>4B-'/ 4d'/</td>\n",
       "      <td>4b-\\</td>\n",
       "      <td>3.00</td>\n",
       "      <td>M4/4</td>\n",
       "      <td>3.0</td>\n",
       "      <td>strong beat</td>\n",
       "      <td>1.0</td>\n",
       "      <td>0.000000</td>\n",
       "    </tr>\n",
       "  </tbody>\n",
       "</table>\n",
       "<p>28274 rows × 11 columns</p>\n",
       "</div>"
      ],
      "text/plain": [
       "     harm voice4 voice3      voice2    voice1  beat meter  onset_strength  \\\n",
       "0       .     4r     4r          4r      8.e-  3.00  M3/4             1.0   \n",
       "1       .     4r     4r          4r       16g  3.75  M3/4             1.0   \n",
       "2       I    4E-    4e-      4e- 4G       4b-  1.00  M3/4             4.0   \n",
       "3       I     4r     4r          4r       4b-  2.00  M3/4             0.0   \n",
       "4       I    4e-   [4b-          4g      4ee-  3.00  M3/4             3.0   \n",
       "...   ...    ...    ...         ...       ...   ...   ...             ...   \n",
       "4861  ii6  4E-'\\  4e-'/        4g'/  16ee-\\JJ  1.75  M4/4             1.0   \n",
       "4862   V7   4F'\\  4An'/  4c'/ 4e-'/    8ee-\\L  2.00  M4/4             3.0   \n",
       "4863   V7   4F'\\  4An'/  4c'/ 4e-'/     16f\\L  2.50  M4/4             1.0   \n",
       "4864   V7   4F'\\  4An'/  4c'/ 4e-'/   16b-\\JJ  2.75  M4/4             1.0   \n",
       "4865    I  4BB-/   4B-/  4B-'/ 4d'/      4b-\\  3.00  M4/4             3.0   \n",
       "\n",
       "     beat_strength  LABEL  similarity  \n",
       "0      strong beat    1.0    0.000000  \n",
       "1         off beat    0.0    0.500000  \n",
       "2      strong beat    1.0    0.500000  \n",
       "3        weak beat    0.0    0.500000  \n",
       "4      strong beat    0.0    0.285714  \n",
       "...            ...    ...         ...  \n",
       "4861      off beat    0.0    0.333333  \n",
       "4862     weak beat    1.0    1.000000  \n",
       "4863      off beat    0.0    0.888889  \n",
       "4864      off beat    0.0    0.285714  \n",
       "4865   strong beat    1.0    0.000000  \n",
       "\n",
       "[28274 rows x 11 columns]"
      ]
     },
     "execution_count": 29,
     "metadata": {},
     "output_type": "execute_result"
    }
   ],
   "source": [
    "df"
   ]
  },
  {
   "cell_type": "code",
   "execution_count": 30,
   "metadata": {},
   "outputs": [
    {
     "name": "stdout",
     "output_type": "stream",
     "text": [
      "harm               object\n",
      "voice4             object\n",
      "voice3             object\n",
      "voice2             object\n",
      "voice1             object\n",
      "beat              float64\n",
      "meter              object\n",
      "onset_strength    float64\n",
      "beat_strength      object\n",
      "LABEL             float64\n",
      "similarity        float64\n",
      "dtype: object\n"
     ]
    }
   ],
   "source": [
    "print(df.dtypes)"
   ]
  },
  {
   "cell_type": "code",
   "execution_count": 31,
   "metadata": {},
   "outputs": [
    {
     "name": "stdout",
     "output_type": "stream",
     "text": [
      "harm                object\n",
      "voice4              object\n",
      "voice3              object\n",
      "voice2              object\n",
      "voice1              object\n",
      "beat               float64\n",
      "meter               object\n",
      "onset_strength       int64\n",
      "beat_strength     category\n",
      "LABEL                int64\n",
      "similarity         float64\n",
      "dtype: object\n"
     ]
    }
   ],
   "source": [
    "# change variable types\n",
    "df['onset_strength'] = df.onset_strength.astype(int)\n",
    "#df['onset_strength'] = pd.Categorical(df.onset_strength)\n",
    "df['beat_strength'] = pd.Categorical(df.beat_strength)\n",
    "df['LABEL'] = df.LABEL.astype(int)\n",
    "print(df.dtypes)"
   ]
  },
  {
   "cell_type": "code",
   "execution_count": 35,
   "metadata": {},
   "outputs": [
    {
     "name": "stdout",
     "output_type": "stream",
     "text": [
      "Optimization terminated successfully.\n",
      "         Current function value: 0.280866\n",
      "         Iterations 7\n"
     ]
    }
   ],
   "source": [
    "logit = smf.logit(formula='LABEL ~ onset_strength + C(beat_strength) + similarity -1', data=df).fit()"
   ]
  },
  {
   "cell_type": "code",
   "execution_count": 36,
   "metadata": {},
   "outputs": [
    {
     "name": "stdout",
     "output_type": "stream",
     "text": [
      "                           Logit Regression Results                           \n",
      "==============================================================================\n",
      "Dep. Variable:                  LABEL   No. Observations:                28274\n",
      "Model:                          Logit   Df Residuals:                    28269\n",
      "Method:                           MLE   Df Model:                            4\n",
      "Date:                Mon, 30 Nov 2020   Pseudo R-squ.:                  0.4774\n",
      "Time:                        01:52:27   Log-Likelihood:                -7941.2\n",
      "converged:                       True   LL-Null:                       -15195.\n",
      "Covariance Type:            nonrobust   LLR p-value:                     0.000\n",
      "=================================================================================================\n",
      "                                    coef    std err          z      P>|z|      [0.025      0.975]\n",
      "-------------------------------------------------------------------------------------------------\n",
      "C(beat_strength)[off beat]       -5.1455      0.066    -77.888      0.000      -5.275      -5.016\n",
      "C(beat_strength)[strong beat]    -1.6876      0.060    -28.043      0.000      -1.806      -1.570\n",
      "C(beat_strength)[weak beat]      -3.3235      0.065    -50.815      0.000      -3.452      -3.195\n",
      "onset_strength                    1.1908      0.021     55.808      0.000       1.149       1.233\n",
      "similarity                        0.1942      0.058      3.358      0.001       0.081       0.308\n",
      "=================================================================================================\n"
     ]
    }
   ],
   "source": [
    "print(logit.summary())"
   ]
  },
  {
   "cell_type": "code",
   "execution_count": 38,
   "metadata": {},
   "outputs": [
    {
     "name": "stdout",
     "output_type": "stream",
     "text": [
      "                                     5%       95%  Odds Ratio\n",
      "C(beat_strength)[off beat]     0.005118  0.006631    0.005825\n",
      "C(beat_strength)[strong beat]  0.164382  0.208115    0.184961\n",
      "C(beat_strength)[weak beat]    0.031693  0.040955    0.036028\n",
      "onset_strength                 3.154983  3.430221    3.289725\n",
      "similarity                     1.084213  1.360197    1.214390\n"
     ]
    }
   ],
   "source": [
    "# confident intervals and odds ratio\n",
    "params = logit.params\n",
    "conf = logit.conf_int()\n",
    "conf['Odds Ratio'] = params\n",
    "conf.columns = ['5%', '95%', 'Odds Ratio']\n",
    "print(np.exp(conf))"
   ]
  },
  {
   "cell_type": "code",
   "execution_count": null,
   "metadata": {},
   "outputs": [],
   "source": []
  }
 ],
 "metadata": {
  "kernelspec": {
   "display_name": "Python 3",
   "language": "python",
   "name": "python3"
  },
  "language_info": {
   "codemirror_mode": {
    "name": "ipython",
    "version": 3
   },
   "file_extension": ".py",
   "mimetype": "text/x-python",
   "name": "python",
   "nbconvert_exporter": "python",
   "pygments_lexer": "ipython3",
   "version": "3.7.6"
  }
 },
 "nbformat": 4,
 "nbformat_minor": 4
}
